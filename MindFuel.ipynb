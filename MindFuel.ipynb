{
  "cells": [
    {
      "cell_type": "code",
      "execution_count": 1,
      "metadata": {
        "id": "BowSZFD3Fx2v"
      },
      "outputs": [],
      "source": [
        "import pandas as pd\n",
        "\n",
        "tareas = pd.read_csv(\"../input/tareas.csv\")"
      ]
    },
    {
      "cell_type": "code",
      "execution_count": 2,
      "metadata": {
        "colab": {
          "base_uri": "https://localhost:8080/",
          "height": 424
        },
        "id": "nszj1LsVF-7R",
        "outputId": "844da32a-2666-48db-8580-5c0a75faa8bb"
      },
      "outputs": [
        {
          "data": {
            "text/html": [
              "<div>\n",
              "<style scoped>\n",
              "    .dataframe tbody tr th:only-of-type {\n",
              "        vertical-align: middle;\n",
              "    }\n",
              "\n",
              "    .dataframe tbody tr th {\n",
              "        vertical-align: top;\n",
              "    }\n",
              "\n",
              "    .dataframe thead th {\n",
              "        text-align: right;\n",
              "    }\n",
              "</style>\n",
              "<table border=\"1\" class=\"dataframe\">\n",
              "  <thead>\n",
              "    <tr style=\"text-align: right;\">\n",
              "      <th></th>\n",
              "      <th>Tareas</th>\n",
              "      <th>Duracion</th>\n",
              "      <th>Area</th>\n",
              "      <th>Id</th>\n",
              "    </tr>\n",
              "  </thead>\n",
              "  <tbody>\n",
              "    <tr>\n",
              "      <th>0</th>\n",
              "      <td>Hacer la cama</td>\n",
              "      <td>5 minutos</td>\n",
              "      <td>Organización</td>\n",
              "      <td>1</td>\n",
              "    </tr>\n",
              "    <tr>\n",
              "      <th>1</th>\n",
              "      <td>Preparar el desayuno</td>\n",
              "      <td>10 minutos</td>\n",
              "      <td>Alimentación</td>\n",
              "      <td>2</td>\n",
              "    </tr>\n",
              "    <tr>\n",
              "      <th>2</th>\n",
              "      <td>Lavar los platos</td>\n",
              "      <td>15 minutos</td>\n",
              "      <td>Tareas del hogar</td>\n",
              "      <td>3</td>\n",
              "    </tr>\n",
              "    <tr>\n",
              "      <th>3</th>\n",
              "      <td>Limpiar el baño</td>\n",
              "      <td>20 minutos</td>\n",
              "      <td>Tareas del hogar</td>\n",
              "      <td>5</td>\n",
              "    </tr>\n",
              "    <tr>\n",
              "      <th>4</th>\n",
              "      <td>Planificar la cena</td>\n",
              "      <td>10 minutos</td>\n",
              "      <td>Alimentación</td>\n",
              "      <td>6</td>\n",
              "    </tr>\n",
              "    <tr>\n",
              "      <th>...</th>\n",
              "      <td>...</td>\n",
              "      <td>...</td>\n",
              "      <td>...</td>\n",
              "      <td>...</td>\n",
              "    </tr>\n",
              "    <tr>\n",
              "      <th>123</th>\n",
              "      <td>Aplicar una mascarilla facial o capilar</td>\n",
              "      <td>Variable</td>\n",
              "      <td>Belleza y Cuidado Personal</td>\n",
              "      <td>125</td>\n",
              "    </tr>\n",
              "    <tr>\n",
              "      <th>124</th>\n",
              "      <td>Escuchar un podcast antes de dormir</td>\n",
              "      <td>Variable</td>\n",
              "      <td>Entretenimiento</td>\n",
              "      <td>126</td>\n",
              "    </tr>\n",
              "    <tr>\n",
              "      <th>125</th>\n",
              "      <td>Realizar una actividad creativa</td>\n",
              "      <td>Variable</td>\n",
              "      <td>Arte y Creatividad</td>\n",
              "      <td>127</td>\n",
              "    </tr>\n",
              "    <tr>\n",
              "      <th>126</th>\n",
              "      <td>Repasar y ajustar metas y objetivos</td>\n",
              "      <td>10 minutos</td>\n",
              "      <td>Autodesarrollo</td>\n",
              "      <td>128</td>\n",
              "    </tr>\n",
              "    <tr>\n",
              "      <th>127</th>\n",
              "      <td>Preparar la ropa y accesorios para el día sigu...</td>\n",
              "      <td>10 minutos</td>\n",
              "      <td>Organización</td>\n",
              "      <td>129</td>\n",
              "    </tr>\n",
              "  </tbody>\n",
              "</table>\n",
              "<p>128 rows × 4 columns</p>\n",
              "</div>"
            ],
            "text/plain": [
              "                                                Tareas    Duracion   \n",
              "0                                        Hacer la cama   5 minutos  \\\n",
              "1                                 Preparar el desayuno  10 minutos   \n",
              "2                                     Lavar los platos  15 minutos   \n",
              "3                                      Limpiar el baño  20 minutos   \n",
              "4                                   Planificar la cena  10 minutos   \n",
              "..                                                 ...         ...   \n",
              "123            Aplicar una mascarilla facial o capilar    Variable   \n",
              "124                Escuchar un podcast antes de dormir    Variable   \n",
              "125                    Realizar una actividad creativa    Variable   \n",
              "126                Repasar y ajustar metas y objetivos  10 minutos   \n",
              "127  Preparar la ropa y accesorios para el día sigu...  10 minutos   \n",
              "\n",
              "                           Area   Id  \n",
              "0                  Organización    1  \n",
              "1                  Alimentación    2  \n",
              "2              Tareas del hogar    3  \n",
              "3              Tareas del hogar    5  \n",
              "4                  Alimentación    6  \n",
              "..                          ...  ...  \n",
              "123  Belleza y Cuidado Personal  125  \n",
              "124             Entretenimiento  126  \n",
              "125          Arte y Creatividad  127  \n",
              "126              Autodesarrollo  128  \n",
              "127                Organización  129  \n",
              "\n",
              "[128 rows x 4 columns]"
            ]
          },
          "execution_count": 2,
          "metadata": {},
          "output_type": "execute_result"
        }
      ],
      "source": [
        "tareas"
      ]
    },
    {
      "cell_type": "code",
      "execution_count": 3,
      "metadata": {
        "id": "KKdzyvytGADi"
      },
      "outputs": [],
      "source": [
        "import re\n",
        "\n",
        "def clean_title(title):\n",
        "  return re.sub(\"[^a-zA-Z0-9 ]\",\"\",title)"
      ]
    },
    {
      "cell_type": "code",
      "execution_count": 4,
      "metadata": {
        "id": "wtBRAk6NGGFF"
      },
      "outputs": [],
      "source": [
        "tareas[\"clean_title\"] = tareas[\"Tareas\"].apply(clean_title)"
      ]
    },
    {
      "cell_type": "code",
      "execution_count": 5,
      "metadata": {
        "id": "Q4Dd-Z3XG16g"
      },
      "outputs": [],
      "source": [
        "from sklearn.feature_extraction.text import TfidfVectorizer\n",
        "\n",
        "vectorizer = TfidfVectorizer(ngram_range=(1,2))\n",
        "\n",
        "tfidf = vectorizer.fit_transform(tareas[\"clean_title\"])"
      ]
    },
    {
      "cell_type": "code",
      "execution_count": 6,
      "metadata": {
        "id": "Wi-7GqMdHUB_"
      },
      "outputs": [],
      "source": [
        "from sklearn.metrics.pairwise import cosine_similarity\n",
        "import numpy as np\n",
        "\n",
        "def search(title):\n",
        "  title = clean_title(title)\n",
        "  query_vec = vectorizer.transform([title])\n",
        "  similarity = cosine_similarity(query_vec, tfidf).flatten()\n",
        "  indices = np.argpartition(similarity,-5)[-5:]\n",
        "  results = tareas.iloc[indices]\n",
        "  return results"
      ]
    },
    {
      "cell_type": "code",
      "execution_count": 7,
      "metadata": {
        "colab": {
          "base_uri": "https://localhost:8080/",
          "height": 49,
          "referenced_widgets": [
            "b22b178e5e284f32a7fbc95bc826a713",
            "989d30f0337244dfb63c68bae5b8d588",
            "b2fadf43311c45eeba48c02e0b82e42c",
            "ae0312c37f834f89bfaa3d64ccf26f8f",
            "c5e29eba38504a7fbdc483fc26036c13"
          ]
        },
        "id": "26z86p-9IS4i",
        "outputId": "09f44d31-6659-405f-db43-1bb531a233eb"
      },
      "outputs": [
        {
          "data": {
            "application/vnd.jupyter.widget-view+json": {
              "model_id": "1f1b2b589b06487fad936329497ab5f6",
              "version_major": 2,
              "version_minor": 0
            },
            "text/plain": [
              "Text(value='Ejercicio', description='Tarea:')"
            ]
          },
          "metadata": {},
          "output_type": "display_data"
        },
        {
          "data": {
            "application/vnd.jupyter.widget-view+json": {
              "model_id": "11ea96872f8e4c2d8844c3527fdd8dea",
              "version_major": 2,
              "version_minor": 0
            },
            "text/plain": [
              "Output()"
            ]
          },
          "metadata": {},
          "output_type": "display_data"
        }
      ],
      "source": [
        "import ipywidgets as widgets\n",
        "from IPython.display import display\n",
        "\n",
        "tarea_input = widgets.Text(\n",
        "    value = \"Ejercicio\",\n",
        "    description = \"Tarea:\",\n",
        "    disabled = False\n",
        ")\n",
        "tarea_list = widgets.Output()\n",
        "\n",
        "def on_type(data):\n",
        "  with tarea_list:\n",
        "    tarea_list.clear_output()\n",
        "    title = data[\"new\"]\n",
        "    if len(title) > 5:\n",
        "      display(search(title))\n",
        "\n",
        "\n",
        "tarea_input.observe(on_type, names = 'value')\n",
        "\n",
        "display(tarea_input, tarea_list)"
      ]
    },
    {
      "cell_type": "code",
      "execution_count": 9,
      "metadata": {
        "id": "ZYjs5RjIK0vH"
      },
      "outputs": [],
      "source": [
        "ratings = pd.read_csv(\"../input/puntuacion.csv\")"
      ]
    },
    {
      "cell_type": "code",
      "execution_count": 10,
      "metadata": {
        "colab": {
          "base_uri": "https://localhost:8080/",
          "height": 424
        },
        "id": "UKraTQndYIWL",
        "outputId": "861097de-688d-4bc8-9590-709b416ba9cf"
      },
      "outputs": [
        {
          "data": {
            "text/html": [
              "<div>\n",
              "<style scoped>\n",
              "    .dataframe tbody tr th:only-of-type {\n",
              "        vertical-align: middle;\n",
              "    }\n",
              "\n",
              "    .dataframe tbody tr th {\n",
              "        vertical-align: top;\n",
              "    }\n",
              "\n",
              "    .dataframe thead th {\n",
              "        text-align: right;\n",
              "    }\n",
              "</style>\n",
              "<table border=\"1\" class=\"dataframe\">\n",
              "  <thead>\n",
              "    <tr style=\"text-align: right;\">\n",
              "      <th></th>\n",
              "      <th>user_id</th>\n",
              "      <th>tarea_id</th>\n",
              "      <th>rating</th>\n",
              "    </tr>\n",
              "  </thead>\n",
              "  <tbody>\n",
              "    <tr>\n",
              "      <th>0</th>\n",
              "      <td>1</td>\n",
              "      <td>1</td>\n",
              "      <td>3</td>\n",
              "    </tr>\n",
              "    <tr>\n",
              "      <th>1</th>\n",
              "      <td>1</td>\n",
              "      <td>2</td>\n",
              "      <td>5</td>\n",
              "    </tr>\n",
              "    <tr>\n",
              "      <th>2</th>\n",
              "      <td>1</td>\n",
              "      <td>3</td>\n",
              "      <td>5</td>\n",
              "    </tr>\n",
              "    <tr>\n",
              "      <th>3</th>\n",
              "      <td>1</td>\n",
              "      <td>4</td>\n",
              "      <td>5</td>\n",
              "    </tr>\n",
              "    <tr>\n",
              "      <th>4</th>\n",
              "      <td>1</td>\n",
              "      <td>5</td>\n",
              "      <td>5</td>\n",
              "    </tr>\n",
              "    <tr>\n",
              "      <th>...</th>\n",
              "      <td>...</td>\n",
              "      <td>...</td>\n",
              "      <td>...</td>\n",
              "    </tr>\n",
              "    <tr>\n",
              "      <th>4381</th>\n",
              "      <td>34</td>\n",
              "      <td>125</td>\n",
              "      <td>3</td>\n",
              "    </tr>\n",
              "    <tr>\n",
              "      <th>4382</th>\n",
              "      <td>34</td>\n",
              "      <td>126</td>\n",
              "      <td>2</td>\n",
              "    </tr>\n",
              "    <tr>\n",
              "      <th>4383</th>\n",
              "      <td>34</td>\n",
              "      <td>127</td>\n",
              "      <td>2</td>\n",
              "    </tr>\n",
              "    <tr>\n",
              "      <th>4384</th>\n",
              "      <td>34</td>\n",
              "      <td>128</td>\n",
              "      <td>3</td>\n",
              "    </tr>\n",
              "    <tr>\n",
              "      <th>4385</th>\n",
              "      <td>34</td>\n",
              "      <td>129</td>\n",
              "      <td>5</td>\n",
              "    </tr>\n",
              "  </tbody>\n",
              "</table>\n",
              "<p>4386 rows × 3 columns</p>\n",
              "</div>"
            ],
            "text/plain": [
              "      user_id  tarea_id  rating\n",
              "0           1         1       3\n",
              "1           1         2       5\n",
              "2           1         3       5\n",
              "3           1         4       5\n",
              "4           1         5       5\n",
              "...       ...       ...     ...\n",
              "4381       34       125       3\n",
              "4382       34       126       2\n",
              "4383       34       127       2\n",
              "4384       34       128       3\n",
              "4385       34       129       5\n",
              "\n",
              "[4386 rows x 3 columns]"
            ]
          },
          "execution_count": 10,
          "metadata": {},
          "output_type": "execute_result"
        }
      ],
      "source": [
        "ratings"
      ]
    },
    {
      "cell_type": "code",
      "execution_count": 11,
      "metadata": {
        "colab": {
          "base_uri": "https://localhost:8080/"
        },
        "id": "_VqoHkqLYMOK",
        "outputId": "2053a788-e6d0-4cf6-fbcd-386bca958a06"
      },
      "outputs": [
        {
          "data": {
            "text/plain": [
              "user_id     int64\n",
              "tarea_id    int64\n",
              "rating      int64\n",
              "dtype: object"
            ]
          },
          "execution_count": 11,
          "metadata": {},
          "output_type": "execute_result"
        }
      ],
      "source": [
        "ratings.dtypes"
      ]
    },
    {
      "cell_type": "code",
      "execution_count": 12,
      "metadata": {
        "id": "eV6NzUYxYS2z"
      },
      "outputs": [],
      "source": [
        "tarea_id = 1"
      ]
    },
    {
      "cell_type": "code",
      "execution_count": 13,
      "metadata": {
        "id": "MtSsRm_uYceZ"
      },
      "outputs": [],
      "source": [
        "similar_users = ratings[(ratings[\"tarea_id\"] == tarea_id) & (ratings[\"rating\"]> 4)][\"user_id\"].unique()"
      ]
    },
    {
      "cell_type": "code",
      "execution_count": 14,
      "metadata": {
        "colab": {
          "base_uri": "https://localhost:8080/"
        },
        "id": "Iol6NiTSY8KX",
        "outputId": "d59014b1-10b4-4c10-cfbf-60db89d1b495"
      },
      "outputs": [
        {
          "data": {
            "text/plain": [
              "array([ 4,  7, 19, 23, 31, 33, 34], dtype=int64)"
            ]
          },
          "execution_count": 14,
          "metadata": {},
          "output_type": "execute_result"
        }
      ],
      "source": [
        "similar_users"
      ]
    },
    {
      "cell_type": "code",
      "execution_count": 15,
      "metadata": {
        "id": "q7ylse49ZGw2"
      },
      "outputs": [],
      "source": [
        "similar_user_recs = ratings[(ratings[\"user_id\"].isin(similar_users)) & (ratings[\"rating\"]> 4)][\"tarea_id\"]"
      ]
    },
    {
      "cell_type": "code",
      "execution_count": 16,
      "metadata": {
        "colab": {
          "base_uri": "https://localhost:8080/"
        },
        "id": "tbRlISwxZp7M",
        "outputId": "b6fd4fe1-3bdc-49ef-941e-fecdf36eb2c9"
      },
      "outputs": [
        {
          "data": {
            "text/plain": [
              "387       1\n",
              "396      10\n",
              "398      12\n",
              "400      14\n",
              "414      28\n",
              "       ... \n",
              "4362    106\n",
              "4364    108\n",
              "4370    114\n",
              "4372    116\n",
              "4385    129\n",
              "Name: tarea_id, Length: 196, dtype: int64"
            ]
          },
          "execution_count": 16,
          "metadata": {},
          "output_type": "execute_result"
        }
      ],
      "source": [
        "similar_user_recs"
      ]
    },
    {
      "cell_type": "code",
      "execution_count": 18,
      "metadata": {
        "id": "kY-bIlgtZrXt"
      },
      "outputs": [],
      "source": [
        "similar_user_recs = similar_user_recs.value_counts() / len(similar_users)\n",
        "\n",
        "similar_user_recs = similar_user_recs[similar_user_recs > .1]"
      ]
    },
    {
      "cell_type": "code",
      "execution_count": 19,
      "metadata": {
        "colab": {
          "base_uri": "https://localhost:8080/"
        },
        "id": "S5Gd7bmQZ5on",
        "outputId": "94e55d48-9102-49e7-b11a-b7a3a33e6f69"
      },
      "outputs": [
        {
          "data": {
            "text/plain": [
              "tarea_id\n",
              "1      1.000000\n",
              "14     0.714286\n",
              "100    0.571429\n",
              "18     0.571429\n",
              "77     0.571429\n",
              "         ...   \n",
              "24     0.142857\n",
              "61     0.142857\n",
              "91     0.142857\n",
              "93     0.142857\n",
              "116    0.142857\n",
              "Name: count, Length: 97, dtype: float64"
            ]
          },
          "execution_count": 19,
          "metadata": {},
          "output_type": "execute_result"
        }
      ],
      "source": [
        "similar_user_recs"
      ]
    },
    {
      "cell_type": "code",
      "execution_count": 20,
      "metadata": {
        "id": "kEZ6KLJsaj3T"
      },
      "outputs": [],
      "source": [
        "all_users = ratings[(ratings[\"tarea_id\"].isin(similar_user_recs.index)) & (ratings[\"rating\"] > 4)]"
      ]
    },
    {
      "cell_type": "code",
      "execution_count": 21,
      "metadata": {
        "colab": {
          "base_uri": "https://localhost:8080/",
          "height": 424
        },
        "id": "VYR0sRn2bsVY",
        "outputId": "0a722cea-89ee-4679-88e5-016acbb63507"
      },
      "outputs": [
        {
          "data": {
            "text/html": [
              "<div>\n",
              "<style scoped>\n",
              "    .dataframe tbody tr th:only-of-type {\n",
              "        vertical-align: middle;\n",
              "    }\n",
              "\n",
              "    .dataframe tbody tr th {\n",
              "        vertical-align: top;\n",
              "    }\n",
              "\n",
              "    .dataframe thead th {\n",
              "        text-align: right;\n",
              "    }\n",
              "</style>\n",
              "<table border=\"1\" class=\"dataframe\">\n",
              "  <thead>\n",
              "    <tr style=\"text-align: right;\">\n",
              "      <th></th>\n",
              "      <th>user_id</th>\n",
              "      <th>tarea_id</th>\n",
              "      <th>rating</th>\n",
              "    </tr>\n",
              "  </thead>\n",
              "  <tbody>\n",
              "    <tr>\n",
              "      <th>2</th>\n",
              "      <td>1</td>\n",
              "      <td>3</td>\n",
              "      <td>5</td>\n",
              "    </tr>\n",
              "    <tr>\n",
              "      <th>4</th>\n",
              "      <td>1</td>\n",
              "      <td>5</td>\n",
              "      <td>5</td>\n",
              "    </tr>\n",
              "    <tr>\n",
              "      <th>5</th>\n",
              "      <td>1</td>\n",
              "      <td>6</td>\n",
              "      <td>5</td>\n",
              "    </tr>\n",
              "    <tr>\n",
              "      <th>17</th>\n",
              "      <td>1</td>\n",
              "      <td>18</td>\n",
              "      <td>5</td>\n",
              "    </tr>\n",
              "    <tr>\n",
              "      <th>31</th>\n",
              "      <td>1</td>\n",
              "      <td>32</td>\n",
              "      <td>5</td>\n",
              "    </tr>\n",
              "    <tr>\n",
              "      <th>...</th>\n",
              "      <td>...</td>\n",
              "      <td>...</td>\n",
              "      <td>...</td>\n",
              "    </tr>\n",
              "    <tr>\n",
              "      <th>4362</th>\n",
              "      <td>34</td>\n",
              "      <td>106</td>\n",
              "      <td>5</td>\n",
              "    </tr>\n",
              "    <tr>\n",
              "      <th>4364</th>\n",
              "      <td>34</td>\n",
              "      <td>108</td>\n",
              "      <td>5</td>\n",
              "    </tr>\n",
              "    <tr>\n",
              "      <th>4370</th>\n",
              "      <td>34</td>\n",
              "      <td>114</td>\n",
              "      <td>5</td>\n",
              "    </tr>\n",
              "    <tr>\n",
              "      <th>4372</th>\n",
              "      <td>34</td>\n",
              "      <td>116</td>\n",
              "      <td>5</td>\n",
              "    </tr>\n",
              "    <tr>\n",
              "      <th>4385</th>\n",
              "      <td>34</td>\n",
              "      <td>129</td>\n",
              "      <td>5</td>\n",
              "    </tr>\n",
              "  </tbody>\n",
              "</table>\n",
              "<p>712 rows × 3 columns</p>\n",
              "</div>"
            ],
            "text/plain": [
              "      user_id  tarea_id  rating\n",
              "2           1         3       5\n",
              "4           1         5       5\n",
              "5           1         6       5\n",
              "17          1        18       5\n",
              "31          1        32       5\n",
              "...       ...       ...     ...\n",
              "4362       34       106       5\n",
              "4364       34       108       5\n",
              "4370       34       114       5\n",
              "4372       34       116       5\n",
              "4385       34       129       5\n",
              "\n",
              "[712 rows x 3 columns]"
            ]
          },
          "execution_count": 21,
          "metadata": {},
          "output_type": "execute_result"
        }
      ],
      "source": [
        "all_users"
      ]
    },
    {
      "cell_type": "code",
      "execution_count": 22,
      "metadata": {
        "id": "gvkddkY2a9cj"
      },
      "outputs": [],
      "source": [
        "all_users_recs = all_users[\"tarea_id\"].value_counts() / len(all_users[\"user_id\"].unique())"
      ]
    },
    {
      "cell_type": "code",
      "execution_count": 23,
      "metadata": {
        "colab": {
          "base_uri": "https://localhost:8080/"
        },
        "id": "MMv8RxMIbL_p",
        "outputId": "b09333ec-50e3-4ba9-e500-bd2bc89a5115"
      },
      "outputs": [
        {
          "data": {
            "text/plain": [
              "tarea_id\n",
              "74     0.411765\n",
              "29     0.352941\n",
              "123    0.352941\n",
              "31     0.323529\n",
              "115    0.323529\n",
              "         ...   \n",
              "16     0.088235\n",
              "87     0.088235\n",
              "88     0.088235\n",
              "97     0.088235\n",
              "39     0.058824\n",
              "Name: count, Length: 97, dtype: float64"
            ]
          },
          "execution_count": 23,
          "metadata": {},
          "output_type": "execute_result"
        }
      ],
      "source": [
        "all_users_recs"
      ]
    },
    {
      "cell_type": "code",
      "execution_count": 24,
      "metadata": {
        "id": "yMlEjyE8bWTH"
      },
      "outputs": [],
      "source": [
        "rec_percentages = pd.concat([similar_user_recs, all_users_recs],axis = 1)\n",
        "rec_percentages.columns = [\"similar\",\"all\"]"
      ]
    },
    {
      "cell_type": "code",
      "execution_count": 25,
      "metadata": {
        "colab": {
          "base_uri": "https://localhost:8080/",
          "height": 424
        },
        "id": "ZkbIRDvhfs6L",
        "outputId": "27076e22-ea52-4cf5-9eb4-6453000570e4"
      },
      "outputs": [
        {
          "data": {
            "text/html": [
              "<div>\n",
              "<style scoped>\n",
              "    .dataframe tbody tr th:only-of-type {\n",
              "        vertical-align: middle;\n",
              "    }\n",
              "\n",
              "    .dataframe tbody tr th {\n",
              "        vertical-align: top;\n",
              "    }\n",
              "\n",
              "    .dataframe thead th {\n",
              "        text-align: right;\n",
              "    }\n",
              "</style>\n",
              "<table border=\"1\" class=\"dataframe\">\n",
              "  <thead>\n",
              "    <tr style=\"text-align: right;\">\n",
              "      <th></th>\n",
              "      <th>similar</th>\n",
              "      <th>all</th>\n",
              "    </tr>\n",
              "    <tr>\n",
              "      <th>tarea_id</th>\n",
              "      <th></th>\n",
              "      <th></th>\n",
              "    </tr>\n",
              "  </thead>\n",
              "  <tbody>\n",
              "    <tr>\n",
              "      <th>1</th>\n",
              "      <td>1.000000</td>\n",
              "      <td>0.205882</td>\n",
              "    </tr>\n",
              "    <tr>\n",
              "      <th>14</th>\n",
              "      <td>0.714286</td>\n",
              "      <td>0.235294</td>\n",
              "    </tr>\n",
              "    <tr>\n",
              "      <th>100</th>\n",
              "      <td>0.571429</td>\n",
              "      <td>0.235294</td>\n",
              "    </tr>\n",
              "    <tr>\n",
              "      <th>18</th>\n",
              "      <td>0.571429</td>\n",
              "      <td>0.264706</td>\n",
              "    </tr>\n",
              "    <tr>\n",
              "      <th>77</th>\n",
              "      <td>0.571429</td>\n",
              "      <td>0.264706</td>\n",
              "    </tr>\n",
              "    <tr>\n",
              "      <th>...</th>\n",
              "      <td>...</td>\n",
              "      <td>...</td>\n",
              "    </tr>\n",
              "    <tr>\n",
              "      <th>24</th>\n",
              "      <td>0.142857</td>\n",
              "      <td>0.176471</td>\n",
              "    </tr>\n",
              "    <tr>\n",
              "      <th>61</th>\n",
              "      <td>0.142857</td>\n",
              "      <td>0.117647</td>\n",
              "    </tr>\n",
              "    <tr>\n",
              "      <th>91</th>\n",
              "      <td>0.142857</td>\n",
              "      <td>0.205882</td>\n",
              "    </tr>\n",
              "    <tr>\n",
              "      <th>93</th>\n",
              "      <td>0.142857</td>\n",
              "      <td>0.235294</td>\n",
              "    </tr>\n",
              "    <tr>\n",
              "      <th>116</th>\n",
              "      <td>0.142857</td>\n",
              "      <td>0.294118</td>\n",
              "    </tr>\n",
              "  </tbody>\n",
              "</table>\n",
              "<p>97 rows × 2 columns</p>\n",
              "</div>"
            ],
            "text/plain": [
              "           similar       all\n",
              "tarea_id                    \n",
              "1         1.000000  0.205882\n",
              "14        0.714286  0.235294\n",
              "100       0.571429  0.235294\n",
              "18        0.571429  0.264706\n",
              "77        0.571429  0.264706\n",
              "...            ...       ...\n",
              "24        0.142857  0.176471\n",
              "61        0.142857  0.117647\n",
              "91        0.142857  0.205882\n",
              "93        0.142857  0.235294\n",
              "116       0.142857  0.294118\n",
              "\n",
              "[97 rows x 2 columns]"
            ]
          },
          "execution_count": 25,
          "metadata": {},
          "output_type": "execute_result"
        }
      ],
      "source": [
        "rec_percentages"
      ]
    },
    {
      "cell_type": "code",
      "execution_count": 26,
      "metadata": {
        "id": "uFgmwuLQf5Qc"
      },
      "outputs": [],
      "source": [
        "rec_percentages[\"score\"] = rec_percentages[\"similar\"] / rec_percentages[\"all\"] "
      ]
    },
    {
      "cell_type": "code",
      "execution_count": 27,
      "metadata": {
        "id": "kZdprvQ2gHU8"
      },
      "outputs": [],
      "source": [
        "rec_percentages = rec_percentages.sort_values(\"score\",ascending = False)"
      ]
    },
    {
      "cell_type": "code",
      "execution_count": 28,
      "metadata": {
        "colab": {
          "base_uri": "https://localhost:8080/",
          "height": 424
        },
        "id": "qqf8h1XrgOfI",
        "outputId": "4d646dae-16fa-48e9-b771-fde72554a9cd"
      },
      "outputs": [
        {
          "data": {
            "text/html": [
              "<div>\n",
              "<style scoped>\n",
              "    .dataframe tbody tr th:only-of-type {\n",
              "        vertical-align: middle;\n",
              "    }\n",
              "\n",
              "    .dataframe tbody tr th {\n",
              "        vertical-align: top;\n",
              "    }\n",
              "\n",
              "    .dataframe thead th {\n",
              "        text-align: right;\n",
              "    }\n",
              "</style>\n",
              "<table border=\"1\" class=\"dataframe\">\n",
              "  <thead>\n",
              "    <tr style=\"text-align: right;\">\n",
              "      <th></th>\n",
              "      <th>similar</th>\n",
              "      <th>all</th>\n",
              "      <th>score</th>\n",
              "    </tr>\n",
              "    <tr>\n",
              "      <th>tarea_id</th>\n",
              "      <th></th>\n",
              "      <th></th>\n",
              "      <th></th>\n",
              "    </tr>\n",
              "  </thead>\n",
              "  <tbody>\n",
              "    <tr>\n",
              "      <th>1</th>\n",
              "      <td>1.000000</td>\n",
              "      <td>0.205882</td>\n",
              "      <td>4.857143</td>\n",
              "    </tr>\n",
              "    <tr>\n",
              "      <th>108</th>\n",
              "      <td>0.571429</td>\n",
              "      <td>0.147059</td>\n",
              "      <td>3.885714</td>\n",
              "    </tr>\n",
              "    <tr>\n",
              "      <th>88</th>\n",
              "      <td>0.285714</td>\n",
              "      <td>0.088235</td>\n",
              "      <td>3.238095</td>\n",
              "    </tr>\n",
              "    <tr>\n",
              "      <th>16</th>\n",
              "      <td>0.285714</td>\n",
              "      <td>0.088235</td>\n",
              "      <td>3.238095</td>\n",
              "    </tr>\n",
              "    <tr>\n",
              "      <th>14</th>\n",
              "      <td>0.714286</td>\n",
              "      <td>0.235294</td>\n",
              "      <td>3.035714</td>\n",
              "    </tr>\n",
              "    <tr>\n",
              "      <th>...</th>\n",
              "      <td>...</td>\n",
              "      <td>...</td>\n",
              "      <td>...</td>\n",
              "    </tr>\n",
              "    <tr>\n",
              "      <th>104</th>\n",
              "      <td>0.142857</td>\n",
              "      <td>0.235294</td>\n",
              "      <td>0.607143</td>\n",
              "    </tr>\n",
              "    <tr>\n",
              "      <th>71</th>\n",
              "      <td>0.142857</td>\n",
              "      <td>0.235294</td>\n",
              "      <td>0.607143</td>\n",
              "    </tr>\n",
              "    <tr>\n",
              "      <th>116</th>\n",
              "      <td>0.142857</td>\n",
              "      <td>0.294118</td>\n",
              "      <td>0.485714</td>\n",
              "    </tr>\n",
              "    <tr>\n",
              "      <th>26</th>\n",
              "      <td>0.142857</td>\n",
              "      <td>0.323529</td>\n",
              "      <td>0.441558</td>\n",
              "    </tr>\n",
              "    <tr>\n",
              "      <th>31</th>\n",
              "      <td>0.142857</td>\n",
              "      <td>0.323529</td>\n",
              "      <td>0.441558</td>\n",
              "    </tr>\n",
              "  </tbody>\n",
              "</table>\n",
              "<p>97 rows × 3 columns</p>\n",
              "</div>"
            ],
            "text/plain": [
              "           similar       all     score\n",
              "tarea_id                              \n",
              "1         1.000000  0.205882  4.857143\n",
              "108       0.571429  0.147059  3.885714\n",
              "88        0.285714  0.088235  3.238095\n",
              "16        0.285714  0.088235  3.238095\n",
              "14        0.714286  0.235294  3.035714\n",
              "...            ...       ...       ...\n",
              "104       0.142857  0.235294  0.607143\n",
              "71        0.142857  0.235294  0.607143\n",
              "116       0.142857  0.294118  0.485714\n",
              "26        0.142857  0.323529  0.441558\n",
              "31        0.142857  0.323529  0.441558\n",
              "\n",
              "[97 rows x 3 columns]"
            ]
          },
          "execution_count": 28,
          "metadata": {},
          "output_type": "execute_result"
        }
      ],
      "source": [
        "rec_percentages"
      ]
    },
    {
      "cell_type": "code",
      "execution_count": 29,
      "metadata": {
        "colab": {
          "base_uri": "https://localhost:8080/",
          "height": 363
        },
        "id": "YPNj_gR1gPYu",
        "outputId": "8051bc19-9709-4cf0-e1f4-443d0b87d14b"
      },
      "outputs": [
        {
          "data": {
            "text/html": [
              "<div>\n",
              "<style scoped>\n",
              "    .dataframe tbody tr th:only-of-type {\n",
              "        vertical-align: middle;\n",
              "    }\n",
              "\n",
              "    .dataframe tbody tr th {\n",
              "        vertical-align: top;\n",
              "    }\n",
              "\n",
              "    .dataframe thead th {\n",
              "        text-align: right;\n",
              "    }\n",
              "</style>\n",
              "<table border=\"1\" class=\"dataframe\">\n",
              "  <thead>\n",
              "    <tr style=\"text-align: right;\">\n",
              "      <th></th>\n",
              "      <th>similar</th>\n",
              "      <th>all</th>\n",
              "      <th>score</th>\n",
              "      <th>Tareas</th>\n",
              "      <th>Duracion</th>\n",
              "      <th>Area</th>\n",
              "      <th>Id</th>\n",
              "      <th>clean_title</th>\n",
              "    </tr>\n",
              "  </thead>\n",
              "  <tbody>\n",
              "    <tr>\n",
              "      <th>0</th>\n",
              "      <td>1.000000</td>\n",
              "      <td>0.205882</td>\n",
              "      <td>4.857143</td>\n",
              "      <td>Hacer la cama</td>\n",
              "      <td>5 minutos</td>\n",
              "      <td>Organización</td>\n",
              "      <td>1</td>\n",
              "      <td>Hacer la cama</td>\n",
              "    </tr>\n",
              "    <tr>\n",
              "      <th>106</th>\n",
              "      <td>0.571429</td>\n",
              "      <td>0.147059</td>\n",
              "      <td>3.885714</td>\n",
              "      <td>Realizar ejercicios de relajación</td>\n",
              "      <td>10 minutos</td>\n",
              "      <td>Bienestar Mental</td>\n",
              "      <td>108</td>\n",
              "      <td>Realizar ejercicios de relajacin</td>\n",
              "    </tr>\n",
              "    <tr>\n",
              "      <th>86</th>\n",
              "      <td>0.285714</td>\n",
              "      <td>0.088235</td>\n",
              "      <td>3.238095</td>\n",
              "      <td>Organizar y planificar el día siguiente</td>\n",
              "      <td>10 minutos</td>\n",
              "      <td>Organización</td>\n",
              "      <td>88</td>\n",
              "      <td>Organizar y planificar el da siguiente</td>\n",
              "    </tr>\n",
              "    <tr>\n",
              "      <th>14</th>\n",
              "      <td>0.285714</td>\n",
              "      <td>0.088235</td>\n",
              "      <td>3.238095</td>\n",
              "      <td>Pasear al perro</td>\n",
              "      <td>30 minutos</td>\n",
              "      <td>Mascotas</td>\n",
              "      <td>16</td>\n",
              "      <td>Pasear al perro</td>\n",
              "    </tr>\n",
              "    <tr>\n",
              "      <th>12</th>\n",
              "      <td>0.714286</td>\n",
              "      <td>0.235294</td>\n",
              "      <td>3.035714</td>\n",
              "      <td>Hacer la colada</td>\n",
              "      <td>1 hora</td>\n",
              "      <td>Tareas del hogar</td>\n",
              "      <td>14</td>\n",
              "      <td>Hacer la colada</td>\n",
              "    </tr>\n",
              "    <tr>\n",
              "      <th>4</th>\n",
              "      <td>0.428571</td>\n",
              "      <td>0.176471</td>\n",
              "      <td>2.428571</td>\n",
              "      <td>Planificar la cena</td>\n",
              "      <td>10 minutos</td>\n",
              "      <td>Alimentación</td>\n",
              "      <td>6</td>\n",
              "      <td>Planificar la cena</td>\n",
              "    </tr>\n",
              "    <tr>\n",
              "      <th>37</th>\n",
              "      <td>0.142857</td>\n",
              "      <td>0.058824</td>\n",
              "      <td>2.428571</td>\n",
              "      <td>Hacer estiramientos suaves</td>\n",
              "      <td>10 minutos</td>\n",
              "      <td>Salud y Bienestar</td>\n",
              "      <td>39</td>\n",
              "      <td>Hacer estiramientos suaves</td>\n",
              "    </tr>\n",
              "    <tr>\n",
              "      <th>98</th>\n",
              "      <td>0.571429</td>\n",
              "      <td>0.235294</td>\n",
              "      <td>2.428571</td>\n",
              "      <td>Actualizar el calendario/agenda</td>\n",
              "      <td>5 minutos</td>\n",
              "      <td>Organización</td>\n",
              "      <td>100</td>\n",
              "      <td>Actualizar el calendarioagenda</td>\n",
              "    </tr>\n",
              "    <tr>\n",
              "      <th>49</th>\n",
              "      <td>0.428571</td>\n",
              "      <td>0.176471</td>\n",
              "      <td>2.428571</td>\n",
              "      <td>Hacer una pausa para estirarse</td>\n",
              "      <td>5 minutos</td>\n",
              "      <td>Salud y Bienestar</td>\n",
              "      <td>51</td>\n",
              "      <td>Hacer una pausa para estirarse</td>\n",
              "    </tr>\n",
              "    <tr>\n",
              "      <th>75</th>\n",
              "      <td>0.571429</td>\n",
              "      <td>0.264706</td>\n",
              "      <td>2.158730</td>\n",
              "      <td>Realizar ejercicio físico</td>\n",
              "      <td>30 minutos</td>\n",
              "      <td>Salud y Fitness</td>\n",
              "      <td>77</td>\n",
              "      <td>Realizar ejercicio fsico</td>\n",
              "    </tr>\n",
              "  </tbody>\n",
              "</table>\n",
              "</div>"
            ],
            "text/plain": [
              "      similar       all     score                                   Tareas   \n",
              "0    1.000000  0.205882  4.857143                            Hacer la cama  \\\n",
              "106  0.571429  0.147059  3.885714        Realizar ejercicios de relajación   \n",
              "86   0.285714  0.088235  3.238095  Organizar y planificar el día siguiente   \n",
              "14   0.285714  0.088235  3.238095                          Pasear al perro   \n",
              "12   0.714286  0.235294  3.035714                          Hacer la colada   \n",
              "4    0.428571  0.176471  2.428571                       Planificar la cena   \n",
              "37   0.142857  0.058824  2.428571               Hacer estiramientos suaves   \n",
              "98   0.571429  0.235294  2.428571          Actualizar el calendario/agenda   \n",
              "49   0.428571  0.176471  2.428571           Hacer una pausa para estirarse   \n",
              "75   0.571429  0.264706  2.158730                Realizar ejercicio físico   \n",
              "\n",
              "       Duracion               Area   Id   \n",
              "0     5 minutos       Organización    1  \\\n",
              "106  10 minutos   Bienestar Mental  108   \n",
              "86   10 minutos       Organización   88   \n",
              "14   30 minutos           Mascotas   16   \n",
              "12       1 hora   Tareas del hogar   14   \n",
              "4    10 minutos       Alimentación    6   \n",
              "37   10 minutos  Salud y Bienestar   39   \n",
              "98    5 minutos       Organización  100   \n",
              "49    5 minutos  Salud y Bienestar   51   \n",
              "75   30 minutos    Salud y Fitness   77   \n",
              "\n",
              "                                clean_title  \n",
              "0                             Hacer la cama  \n",
              "106        Realizar ejercicios de relajacin  \n",
              "86   Organizar y planificar el da siguiente  \n",
              "14                          Pasear al perro  \n",
              "12                          Hacer la colada  \n",
              "4                        Planificar la cena  \n",
              "37               Hacer estiramientos suaves  \n",
              "98           Actualizar el calendarioagenda  \n",
              "49           Hacer una pausa para estirarse  \n",
              "75                 Realizar ejercicio fsico  "
            ]
          },
          "execution_count": 29,
          "metadata": {},
          "output_type": "execute_result"
        }
      ],
      "source": [
        "rec_percentages.head(10).merge(tareas, left_index=True, right_on = \"Id\")"
      ]
    },
    {
      "cell_type": "code",
      "execution_count": 30,
      "metadata": {
        "id": "84cFOQ2Iggew"
      },
      "outputs": [],
      "source": [
        "def find_similar_tarea(tarea_id):\n",
        "  similar_users = ratings[(ratings[\"tarea_id\"] == tarea_id) & (ratings[\"rating\"]>4)] [\"user_id\"].unique()\n",
        "  similar_user_recs = ratings[(ratings[\"user_id\"].isin(similar_users)) & (ratings[\"rating\"]>4)][\"tarea_id\"]\n",
        "\n",
        "  similar_user_recs = similar_user_recs.value_counts() / len(similar_users)\n",
        "  similar_user_recs = similar_user_recs[similar_user_recs > .10]\n",
        "\n",
        "  all_users = ratings[(ratings[\"tarea_id\"].isin(similar_user_recs.index)) & (ratings[\"rating\"]>4)]\n",
        "  all_user_recs = all_users[\"tarea_id\"].value_counts() / len(all_users[\"user_id\"].unique())\n",
        "\n",
        "  rec_percentages = pd.concat([similar_user_recs, all_user_recs], axis= 1)\n",
        "  rec_percentages.columns = [\"similar\",\"all\"]\n",
        "\n",
        "  rec_percentages[\"score\"] = rec_percentages[\"similar\"] / rec_percentages[\"all\"]\n",
        "\n",
        "  rec_percentages = rec_percentages.sort_values(\"score\",ascending = False)\n",
        "  return rec_percentages.head(10).merge(tareas,left_index=True,right_on = \"Id\")[[\"score\",\"Tareas\",\"Area\"]]"
      ]
    },
    {
      "cell_type": "code",
      "execution_count": 31,
      "metadata": {
        "colab": {
          "base_uri": "https://localhost:8080/",
          "height": 395,
          "referenced_widgets": [
            "245ffb4e00a34bf4bfd6ea8783a9588b",
            "b4b92e102f41428ea53773fd88f8f043",
            "34c0f67ff5894dff8bdc9d145a443955",
            "ace60d7ff496425488fe602f8f6ad43d",
            "900f33d23e9246aeb7e8f044b3d21c17"
          ]
        },
        "id": "b9tWArxsjdmP",
        "outputId": "da16f5bc-56ee-4eb8-b0e5-552ffb0bf1bc"
      },
      "outputs": [
        {
          "data": {
            "application/vnd.jupyter.widget-view+json": {
              "model_id": "b5e8ca07c752413794b3f8b35046b880",
              "version_major": 2,
              "version_minor": 0
            },
            "text/plain": [
              "Text(value='Hacer ejercicio fisico', description='Nombre Tarea:')"
            ]
          },
          "metadata": {},
          "output_type": "display_data"
        },
        {
          "data": {
            "application/vnd.jupyter.widget-view+json": {
              "model_id": "2ad0ae97b8a94ca9af4e001eb31b3dcf",
              "version_major": 2,
              "version_minor": 0
            },
            "text/plain": [
              "Output()"
            ]
          },
          "metadata": {},
          "output_type": "display_data"
        }
      ],
      "source": [
        "tarea_input_name = widgets.Text(\n",
        "    value = \"Hacer ejercicio fisico\",\n",
        "    description = \"Nombre Tarea:\",\n",
        "    disables = False\n",
        ")\n",
        "\n",
        "recommendation_list = widgets.Output()\n",
        "\n",
        "def on_type(data):\n",
        "  with recommendation_list:\n",
        "    recommendation_list.clear_output()\n",
        "    title = data[\"new\"]\n",
        "    if len(title) > 5:\n",
        "      results = search(title)\n",
        "      tarea_id = results.iloc[0] [\"Id\"]\n",
        "      display(find_similar_tarea(tarea_id))\n",
        "\n",
        "tarea_input_name.observe(on_type, names= \"value\")\n",
        "\n",
        "display(tarea_input_name, recommendation_list)"
      ]
    }
  ],
  "metadata": {
    "colab": {
      "provenance": []
    },
    "kernelspec": {
      "display_name": "Python 3",
      "name": "python3"
    },
    "language_info": {
      "codemirror_mode": {
        "name": "ipython",
        "version": 3
      },
      "file_extension": ".py",
      "mimetype": "text/x-python",
      "name": "python",
      "nbconvert_exporter": "python",
      "pygments_lexer": "ipython3",
      "version": "3.10.0"
    },
    "widgets": {
      "application/vnd.jupyter.widget-state+json": {
        "245ffb4e00a34bf4bfd6ea8783a9588b": {
          "model_module": "@jupyter-widgets/controls",
          "model_module_version": "1.5.0",
          "model_name": "TextModel",
          "state": {
            "_dom_classes": [],
            "_model_module": "@jupyter-widgets/controls",
            "_model_module_version": "1.5.0",
            "_model_name": "TextModel",
            "_view_count": null,
            "_view_module": "@jupyter-widgets/controls",
            "_view_module_version": "1.5.0",
            "_view_name": "TextView",
            "continuous_update": true,
            "description": "Nombre Tarea:",
            "description_tooltip": null,
            "disabled": false,
            "layout": "IPY_MODEL_b4b92e102f41428ea53773fd88f8f043",
            "placeholder": "​",
            "style": "IPY_MODEL_34c0f67ff5894dff8bdc9d145a443955",
            "value": "Hacer ejercicio fisic"
          }
        },
        "34c0f67ff5894dff8bdc9d145a443955": {
          "model_module": "@jupyter-widgets/controls",
          "model_module_version": "1.5.0",
          "model_name": "DescriptionStyleModel",
          "state": {
            "_model_module": "@jupyter-widgets/controls",
            "_model_module_version": "1.5.0",
            "_model_name": "DescriptionStyleModel",
            "_view_count": null,
            "_view_module": "@jupyter-widgets/base",
            "_view_module_version": "1.2.0",
            "_view_name": "StyleView",
            "description_width": ""
          }
        },
        "900f33d23e9246aeb7e8f044b3d21c17": {
          "model_module": "@jupyter-widgets/base",
          "model_module_version": "1.2.0",
          "model_name": "LayoutModel",
          "state": {
            "_model_module": "@jupyter-widgets/base",
            "_model_module_version": "1.2.0",
            "_model_name": "LayoutModel",
            "_view_count": null,
            "_view_module": "@jupyter-widgets/base",
            "_view_module_version": "1.2.0",
            "_view_name": "LayoutView",
            "align_content": null,
            "align_items": null,
            "align_self": null,
            "border": null,
            "bottom": null,
            "display": null,
            "flex": null,
            "flex_flow": null,
            "grid_area": null,
            "grid_auto_columns": null,
            "grid_auto_flow": null,
            "grid_auto_rows": null,
            "grid_column": null,
            "grid_gap": null,
            "grid_row": null,
            "grid_template_areas": null,
            "grid_template_columns": null,
            "grid_template_rows": null,
            "height": null,
            "justify_content": null,
            "justify_items": null,
            "left": null,
            "margin": null,
            "max_height": null,
            "max_width": null,
            "min_height": null,
            "min_width": null,
            "object_fit": null,
            "object_position": null,
            "order": null,
            "overflow": null,
            "overflow_x": null,
            "overflow_y": null,
            "padding": null,
            "right": null,
            "top": null,
            "visibility": null,
            "width": null
          }
        },
        "989d30f0337244dfb63c68bae5b8d588": {
          "model_module": "@jupyter-widgets/base",
          "model_module_version": "1.2.0",
          "model_name": "LayoutModel",
          "state": {
            "_model_module": "@jupyter-widgets/base",
            "_model_module_version": "1.2.0",
            "_model_name": "LayoutModel",
            "_view_count": null,
            "_view_module": "@jupyter-widgets/base",
            "_view_module_version": "1.2.0",
            "_view_name": "LayoutView",
            "align_content": null,
            "align_items": null,
            "align_self": null,
            "border": null,
            "bottom": null,
            "display": null,
            "flex": null,
            "flex_flow": null,
            "grid_area": null,
            "grid_auto_columns": null,
            "grid_auto_flow": null,
            "grid_auto_rows": null,
            "grid_column": null,
            "grid_gap": null,
            "grid_row": null,
            "grid_template_areas": null,
            "grid_template_columns": null,
            "grid_template_rows": null,
            "height": null,
            "justify_content": null,
            "justify_items": null,
            "left": null,
            "margin": null,
            "max_height": null,
            "max_width": null,
            "min_height": null,
            "min_width": null,
            "object_fit": null,
            "object_position": null,
            "order": null,
            "overflow": null,
            "overflow_x": null,
            "overflow_y": null,
            "padding": null,
            "right": null,
            "top": null,
            "visibility": null,
            "width": null
          }
        },
        "ace60d7ff496425488fe602f8f6ad43d": {
          "model_module": "@jupyter-widgets/output",
          "model_module_version": "1.0.0",
          "model_name": "OutputModel",
          "state": {
            "_dom_classes": [],
            "_model_module": "@jupyter-widgets/output",
            "_model_module_version": "1.0.0",
            "_model_name": "OutputModel",
            "_view_count": null,
            "_view_module": "@jupyter-widgets/output",
            "_view_module_version": "1.0.0",
            "_view_name": "OutputView",
            "layout": "IPY_MODEL_900f33d23e9246aeb7e8f044b3d21c17",
            "msg_id": "",
            "outputs": [
              {
                "data": {
                  "text/html": "\n  <div id=\"df-0b3e21b5-29df-4f43-88c7-a8361206df8c\">\n    <div class=\"colab-df-container\">\n      <div>\n<style scoped>\n    .dataframe tbody tr th:only-of-type {\n        vertical-align: middle;\n    }\n\n    .dataframe tbody tr th {\n        vertical-align: top;\n    }\n\n    .dataframe thead th {\n        text-align: right;\n    }\n</style>\n<table border=\"1\" class=\"dataframe\">\n  <thead>\n    <tr style=\"text-align: right;\">\n      <th></th>\n      <th>score</th>\n      <th>Tareas</th>\n      <th>Area</th>\n    </tr>\n  </thead>\n  <tbody>\n    <tr>\n      <th>0</th>\n      <td>4.857143</td>\n      <td>Hacer la cama</td>\n      <td>Organización</td>\n    </tr>\n    <tr>\n      <th>106</th>\n      <td>3.885714</td>\n      <td>Realizar ejercicios de relajación</td>\n      <td>Bienestar Mental</td>\n    </tr>\n    <tr>\n      <th>86</th>\n      <td>3.238095</td>\n      <td>Organizar y planificar el día siguiente</td>\n      <td>Organización</td>\n    </tr>\n    <tr>\n      <th>14</th>\n      <td>3.238095</td>\n      <td>Pasear al perro</td>\n      <td>Mascotas</td>\n    </tr>\n    <tr>\n      <th>12</th>\n      <td>3.035714</td>\n      <td>Hacer la colada</td>\n      <td>Tareas del hogar</td>\n    </tr>\n    <tr>\n      <th>4</th>\n      <td>2.428571</td>\n      <td>Planificar la cena</td>\n      <td>Alimentación</td>\n    </tr>\n    <tr>\n      <th>37</th>\n      <td>2.428571</td>\n      <td>Hacer estiramientos suaves</td>\n      <td>Salud y Bienestar</td>\n    </tr>\n    <tr>\n      <th>98</th>\n      <td>2.428571</td>\n      <td>Actualizar el calendario/agenda</td>\n      <td>Organización</td>\n    </tr>\n    <tr>\n      <th>49</th>\n      <td>2.428571</td>\n      <td>Hacer una pausa para estirarse</td>\n      <td>Salud y Bienestar</td>\n    </tr>\n    <tr>\n      <th>75</th>\n      <td>2.158730</td>\n      <td>Realizar ejercicio físico</td>\n      <td>Salud y Fitness</td>\n    </tr>\n  </tbody>\n</table>\n</div>\n      <button class=\"colab-df-convert\" onclick=\"convertToInteractive('df-0b3e21b5-29df-4f43-88c7-a8361206df8c')\"\n              title=\"Convert this dataframe to an interactive table.\"\n              style=\"display:none;\">\n        \n  <svg xmlns=\"http://www.w3.org/2000/svg\" height=\"24px\"viewBox=\"0 0 24 24\"\n       width=\"24px\">\n    <path d=\"M0 0h24v24H0V0z\" fill=\"none\"/>\n    <path d=\"M18.56 5.44l.94 2.06.94-2.06 2.06-.94-2.06-.94-.94-2.06-.94 2.06-2.06.94zm-11 1L8.5 8.5l.94-2.06 2.06-.94-2.06-.94L8.5 2.5l-.94 2.06-2.06.94zm10 10l.94 2.06.94-2.06 2.06-.94-2.06-.94-.94-2.06-.94 2.06-2.06.94z\"/><path d=\"M17.41 7.96l-1.37-1.37c-.4-.4-.92-.59-1.43-.59-.52 0-1.04.2-1.43.59L10.3 9.45l-7.72 7.72c-.78.78-.78 2.05 0 2.83L4 21.41c.39.39.9.59 1.41.59.51 0 1.02-.2 1.41-.59l7.78-7.78 2.81-2.81c.8-.78.8-2.07 0-2.86zM5.41 20L4 18.59l7.72-7.72 1.47 1.35L5.41 20z\"/>\n  </svg>\n      </button>\n      \n  <style>\n    .colab-df-container {\n      display:flex;\n      flex-wrap:wrap;\n      gap: 12px;\n    }\n\n    .colab-df-convert {\n      background-color: #E8F0FE;\n      border: none;\n      border-radius: 50%;\n      cursor: pointer;\n      display: none;\n      fill: #1967D2;\n      height: 32px;\n      padding: 0 0 0 0;\n      width: 32px;\n    }\n\n    .colab-df-convert:hover {\n      background-color: #E2EBFA;\n      box-shadow: 0px 1px 2px rgba(60, 64, 67, 0.3), 0px 1px 3px 1px rgba(60, 64, 67, 0.15);\n      fill: #174EA6;\n    }\n\n    [theme=dark] .colab-df-convert {\n      background-color: #3B4455;\n      fill: #D2E3FC;\n    }\n\n    [theme=dark] .colab-df-convert:hover {\n      background-color: #434B5C;\n      box-shadow: 0px 1px 3px 1px rgba(0, 0, 0, 0.15);\n      filter: drop-shadow(0px 1px 2px rgba(0, 0, 0, 0.3));\n      fill: #FFFFFF;\n    }\n  </style>\n\n      <script>\n        const buttonEl =\n          document.querySelector('#df-0b3e21b5-29df-4f43-88c7-a8361206df8c button.colab-df-convert');\n        buttonEl.style.display =\n          google.colab.kernel.accessAllowed ? 'block' : 'none';\n\n        async function convertToInteractive(key) {\n          const element = document.querySelector('#df-0b3e21b5-29df-4f43-88c7-a8361206df8c');\n          const dataTable =\n            await google.colab.kernel.invokeFunction('convertToInteractive',\n                                                     [key], {});\n          if (!dataTable) return;\n\n          const docLinkHtml = 'Like what you see? Visit the ' +\n            '<a target=\"_blank\" href=https://colab.research.google.com/notebooks/data_table.ipynb>data table notebook</a>'\n            + ' to learn more about interactive tables.';\n          element.innerHTML = '';\n          dataTable['output_type'] = 'display_data';\n          await google.colab.output.renderOutput(dataTable, element);\n          const docLink = document.createElement('div');\n          docLink.innerHTML = docLinkHtml;\n          element.appendChild(docLink);\n        }\n      </script>\n    </div>\n  </div>\n  ",
                  "text/plain": "        score                                   Tareas               Area\n0    4.857143                            Hacer la cama       Organización\n106  3.885714        Realizar ejercicios de relajación   Bienestar Mental\n86   3.238095  Organizar y planificar el día siguiente       Organización\n14   3.238095                          Pasear al perro           Mascotas\n12   3.035714                          Hacer la colada   Tareas del hogar\n4    2.428571                       Planificar la cena       Alimentación\n37   2.428571               Hacer estiramientos suaves  Salud y Bienestar\n98   2.428571          Actualizar el calendario/agenda       Organización\n49   2.428571           Hacer una pausa para estirarse  Salud y Bienestar\n75   2.158730                Realizar ejercicio físico    Salud y Fitness"
                },
                "metadata": {},
                "output_type": "display_data"
              }
            ]
          }
        },
        "ae0312c37f834f89bfaa3d64ccf26f8f": {
          "model_module": "@jupyter-widgets/output",
          "model_module_version": "1.0.0",
          "model_name": "OutputModel",
          "state": {
            "_dom_classes": [],
            "_model_module": "@jupyter-widgets/output",
            "_model_module_version": "1.0.0",
            "_model_name": "OutputModel",
            "_view_count": null,
            "_view_module": "@jupyter-widgets/output",
            "_view_module_version": "1.0.0",
            "_view_name": "OutputView",
            "layout": "IPY_MODEL_c5e29eba38504a7fbdc483fc26036c13",
            "msg_id": "",
            "outputs": []
          }
        },
        "b22b178e5e284f32a7fbc95bc826a713": {
          "model_module": "@jupyter-widgets/controls",
          "model_module_version": "1.5.0",
          "model_name": "TextModel",
          "state": {
            "_dom_classes": [],
            "_model_module": "@jupyter-widgets/controls",
            "_model_module_version": "1.5.0",
            "_model_name": "TextModel",
            "_view_count": null,
            "_view_module": "@jupyter-widgets/controls",
            "_view_module_version": "1.5.0",
            "_view_name": "TextView",
            "continuous_update": true,
            "description": "Tarea:",
            "description_tooltip": null,
            "disabled": false,
            "layout": "IPY_MODEL_989d30f0337244dfb63c68bae5b8d588",
            "placeholder": "​",
            "style": "IPY_MODEL_b2fadf43311c45eeba48c02e0b82e42c",
            "value": "Ejercicio"
          }
        },
        "b2fadf43311c45eeba48c02e0b82e42c": {
          "model_module": "@jupyter-widgets/controls",
          "model_module_version": "1.5.0",
          "model_name": "DescriptionStyleModel",
          "state": {
            "_model_module": "@jupyter-widgets/controls",
            "_model_module_version": "1.5.0",
            "_model_name": "DescriptionStyleModel",
            "_view_count": null,
            "_view_module": "@jupyter-widgets/base",
            "_view_module_version": "1.2.0",
            "_view_name": "StyleView",
            "description_width": ""
          }
        },
        "b4b92e102f41428ea53773fd88f8f043": {
          "model_module": "@jupyter-widgets/base",
          "model_module_version": "1.2.0",
          "model_name": "LayoutModel",
          "state": {
            "_model_module": "@jupyter-widgets/base",
            "_model_module_version": "1.2.0",
            "_model_name": "LayoutModel",
            "_view_count": null,
            "_view_module": "@jupyter-widgets/base",
            "_view_module_version": "1.2.0",
            "_view_name": "LayoutView",
            "align_content": null,
            "align_items": null,
            "align_self": null,
            "border": null,
            "bottom": null,
            "display": null,
            "flex": null,
            "flex_flow": null,
            "grid_area": null,
            "grid_auto_columns": null,
            "grid_auto_flow": null,
            "grid_auto_rows": null,
            "grid_column": null,
            "grid_gap": null,
            "grid_row": null,
            "grid_template_areas": null,
            "grid_template_columns": null,
            "grid_template_rows": null,
            "height": null,
            "justify_content": null,
            "justify_items": null,
            "left": null,
            "margin": null,
            "max_height": null,
            "max_width": null,
            "min_height": null,
            "min_width": null,
            "object_fit": null,
            "object_position": null,
            "order": null,
            "overflow": null,
            "overflow_x": null,
            "overflow_y": null,
            "padding": null,
            "right": null,
            "top": null,
            "visibility": null,
            "width": null
          }
        },
        "c5e29eba38504a7fbdc483fc26036c13": {
          "model_module": "@jupyter-widgets/base",
          "model_module_version": "1.2.0",
          "model_name": "LayoutModel",
          "state": {
            "_model_module": "@jupyter-widgets/base",
            "_model_module_version": "1.2.0",
            "_model_name": "LayoutModel",
            "_view_count": null,
            "_view_module": "@jupyter-widgets/base",
            "_view_module_version": "1.2.0",
            "_view_name": "LayoutView",
            "align_content": null,
            "align_items": null,
            "align_self": null,
            "border": null,
            "bottom": null,
            "display": null,
            "flex": null,
            "flex_flow": null,
            "grid_area": null,
            "grid_auto_columns": null,
            "grid_auto_flow": null,
            "grid_auto_rows": null,
            "grid_column": null,
            "grid_gap": null,
            "grid_row": null,
            "grid_template_areas": null,
            "grid_template_columns": null,
            "grid_template_rows": null,
            "height": null,
            "justify_content": null,
            "justify_items": null,
            "left": null,
            "margin": null,
            "max_height": null,
            "max_width": null,
            "min_height": null,
            "min_width": null,
            "object_fit": null,
            "object_position": null,
            "order": null,
            "overflow": null,
            "overflow_x": null,
            "overflow_y": null,
            "padding": null,
            "right": null,
            "top": null,
            "visibility": null,
            "width": null
          }
        }
      }
    }
  },
  "nbformat": 4,
  "nbformat_minor": 0
}
